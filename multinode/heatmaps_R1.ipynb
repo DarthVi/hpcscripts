{
 "cells": [
  {
   "cell_type": "code",
   "execution_count": 1,
   "metadata": {},
   "outputs": [],
   "source": [
    "from collections import OrderedDict\n",
    "\n",
    "import matplotlib.pyplot as plt\n",
    "import seaborn as sns\n",
    "import pandas as pd"
   ]
  },
  {
   "cell_type": "code",
   "execution_count": 2,
   "metadata": {},
   "outputs": [],
   "source": [
    "def plot_heatmap(title, vDict, columns):\n",
    "    df = pd.DataFrame(vDict.values(), columns=columns, index=vDict.keys())\n",
    "    # Draw a heatmap with the numeric values in each cell\n",
    "    fig, ax = plt.subplots()\n",
    "    ax.set_title(title)\n",
    "    sns.heatmap(df, annot=True, fmt=\".2g\", linewidths=.5, ax=ax, cmap=sns.cm.rocket_r, square=True)\n",
    "    plt.yticks(rotation=0)\n",
    "    plt.show()"
   ]
  },
  {
   "cell_type": "code",
   "execution_count": 3,
   "metadata": {},
   "outputs": [],
   "source": [
    "keys = ['overall', 'healthy', 'memeater', 'memleak', 'membw', 'cpuoccupy', 'cachecopy', 'iometadata', 'iobandwidth']"
   ]
  },
  {
   "cell_type": "code",
   "execution_count": null,
   "metadata": {},
   "outputs": [],
   "source": [
    "#values obtained from R1 results folder\n",
    "valR1 = OrderedDict()\n",
    "valR1[\"N1E4\"] = [0.9594200773876012, 0.9070452749408024, 0.9423957383268948, 0.988328072791717, 0.9618646288918231, 0.9323817279408427, 0.9493145690606631, 0.9931557493056481, 0.9863965970813625]\n",
    "valR1[\"N1E3\"] = [0.9553355553209384, 0.852787507023392, 0.930913315603506, 0.9891387048016412, 0.9635898076103331, 0.9611452160428999, 0.9816734575433103, 0.9929974401998868, 0.9767978480424337]\n",
    "valR1[\"N1E2\"] = [0.9506412426657043, 0.860522087603643, 0.9231904057927588, 0.9898000117573383, 0.9654175743336904, 0.9554053890480905, 0.9801985430845319, 0.9695948792145888, 0.9831963867854678]\n",
    "valR1[\"N3E1\"] = [0.8762036465063892, 0.5290675299475638, 0.6999458122802038, 0.9848655554678694, 0.5292392587649505, 0.5514023412157416, 0.9387588939543404, 0.9996871900929714, 0.9988855473191662]\n",
    "valR1[\"N4E1\"] = [0.8647631193817122, 0.5015001664857365, 0.662655880779625, 0.9678848757155295, 0.8258838890923432, 0.9050687136139561, 0.9182892966383387, 0.9995563945342896, 0.9986548120124441]\n",
    "valR1[\"N2E1\"] = [0.8646041933388572, 0.49959129597481733, 0.4073610686310438, 0.9967853160555382, 0.7937735716370086, 0.7271772518871866, 0.9646125560932652, 0.9996905933808913, 0.997067253397639]\n",
    "valR1[\"N1E1\"] = [0.8384799285290765, 0.4082052480977943, 0.7197680948852283, 0.9928836470369298, 0.7947732398591991, 0.8016533979416783, 0.6938115015397095, 0.999354810449012, 0.9989144364821438]"
   ]
  }
 ],
 "metadata": {
  "kernelspec": {
   "display_name": "Python 3",
   "language": "python",
   "name": "python3"
  },
  "language_info": {
   "codemirror_mode": {
    "name": "ipython",
    "version": 3
   },
   "file_extension": ".py",
   "mimetype": "text/x-python",
   "name": "python",
   "nbconvert_exporter": "python",
   "pygments_lexer": "ipython3",
   "version": "3.8.6"
  }
 },
 "nbformat": 4,
 "nbformat_minor": 4
}
